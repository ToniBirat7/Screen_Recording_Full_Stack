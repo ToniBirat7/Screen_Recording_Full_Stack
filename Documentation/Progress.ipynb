{
 "cells": [
  {
   "cell_type": "markdown",
   "id": "d16bede3",
   "metadata": {},
   "source": [
    "Here, we will track our daily progress and any notes we find useful for our project.\n",
    "\n",
    "<hr>\n"
   ]
  },
  {
   "cell_type": "markdown",
   "id": "51f3bdcd",
   "metadata": {},
   "source": [
    "## **Day1**\n",
    "\n",
    "<hr>\n",
    "\n",
    "- **Date**: 2025-06-26\n",
    "\n",
    "Started the nextjs project with command `npx create-next-app@latest`.\n",
    "\n",
    "Set up the project structure.\n"
   ]
  },
  {
   "cell_type": "markdown",
   "id": "2a9a1f57",
   "metadata": {},
   "source": [
    "## **Day2**\n",
    "\n",
    "<hr>\n",
    "\n",
    "- **Date**: 2025-06-27\n",
    "\n",
    "Before starting to work on the project, we will explore our project design to understand the UI better.\n",
    "\n",
    "After looking at the design, we identify the components needed, bases pages that we need, number of routes that we need to create. This way are able to divide the UI into smaller components and pages, much needed for reusability and maintainability.\n",
    "\n",
    "- NavBar remains the static component, which will be used in all pages.\n",
    "\n",
    "- Then header and footer will be used in all pages, but the content will change based on the page.\n",
    "\n",
    "Altogether we will have 2 layouts i.e. for the `auth` and `main` pages because the NavBar is not needed in the `auth` pages.\n",
    "\n",
    "We will use the `(root)` routing provided by Next.js, which allows us to create a folder structure that maps directly to the URL structure of our application.\n",
    "\n",
    "The `(root)` folder will contain the main layout and the NavBar component, which will be used across all pages.\n",
    "\n",
    "and, the `(auth)` folder will contain the authentication pages, such as login and signup.\n",
    "\n",
    "Inside the `(auth)` route group, we have `sign-in` folder, which will contain the `page.tsx` file for the sign-in page.\n",
    "\n",
    "**Create the Components Folder Outside the App Directory**\n",
    "\n",
    "### **Working with Layout in the Auth Route**\n",
    "\n",
    "The `layout.tsx` file in the `(auth)` folder will be used to define the layout for the authentication pages. This layout will include the header and footer components, which will be used in all authentication pages.\n",
    "\n",
    "At the top we will load the `NavBar` component, which will be used in all pages.\n",
    "\n",
    "and just below that we will load all the children components for that route.\n",
    "\n",
    "By default, the `layout.tsx` top level component will be the parent of all the pages in the `app` directory, and it will be used to define the layout for all pages in the application.\n",
    "\n",
    "So, based on the change in route, the `layout.tsx` file will be used to render the appropriate layout for the page.\n",
    "\n",
    "To acces the `auth` route, we will use the URL `/auth`, which will render the `layout.tsx` file in the `(auth)` folder.\n"
   ]
  }
 ],
 "metadata": {
  "language_info": {
   "name": "python"
  }
 },
 "nbformat": 4,
 "nbformat_minor": 5
}
