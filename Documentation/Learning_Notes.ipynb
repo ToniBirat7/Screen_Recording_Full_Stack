{
 "cells": [
  {
   "cell_type": "markdown",
   "id": "4e7fb4b5",
   "metadata": {},
   "source": [
    "Here we will write the things that we will need to improve in the future, or things that we will need to do later.\n",
    "\n",
    "For becoming a good Full Stack Developer, I need to improve my skills in the following areas:\n",
    "\n",
    "**Use of Semantic HTML**\n",
    "\n",
    "**Use of CSS Frameworks**\n",
    "\n",
    "**Production Ready Folder Structure**\n",
    "\n",
    "**Use of TypeScript**\n",
    "\n",
    "**Working of NextJs**\n",
    "\n",
    "**Build Process of NextJs**\n",
    "\n",
    "**React Frontend Development**\n",
    "\n",
    "**Standard Practices of HTML Tags in Real World**\n"
   ]
  }
 ],
 "metadata": {
  "language_info": {
   "name": "python"
  }
 },
 "nbformat": 4,
 "nbformat_minor": 5
}
