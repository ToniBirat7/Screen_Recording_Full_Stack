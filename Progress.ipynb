{
 "cells": [
  {
   "cell_type": "markdown",
   "id": "6ebf6a40",
   "metadata": {},
   "source": [
    "## **Day1**\n",
    "\n",
    "<hr>\n",
    "\n",
    "Create the `Next.js` app with the following command:\n",
    "\n",
    "```bash\n",
    "npx create-next-app@latest my-next-app --typescript\n",
    "\n",
    "```\n"
   ]
  }
 ],
 "metadata": {
  "language_info": {
   "name": "python"
  }
 },
 "nbformat": 4,
 "nbformat_minor": 5
}
